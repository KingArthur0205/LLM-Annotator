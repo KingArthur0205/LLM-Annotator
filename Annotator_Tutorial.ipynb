{
  "cells": [
    {
      "cell_type": "markdown",
      "metadata": {
        "id": "JiOktV_chz_E"
      },
      "source": [
        "## 0. Install LLM-Annotator"
      ]
    },
    {
      "cell_type": "code",
      "execution_count": null,
      "metadata": {
        "id": "_1lvSXo0J73I"
      },
      "outputs": [],
      "source": [
        "import os\n",
        "os.chdir(\"/content/\")\n",
        "!git clone https://github.com/KingArthur0205/LLM-Annotator.git\n",
        "os.chdir(\"/content/LLM-Annotator\")\n",
        "!pip install -e .\n",
        "os.kill(os.getpid(), 9)"
      ]
    },
    {
      "cell_type": "markdown",
      "metadata": {
        "id": "ulW1VW5Kh2yU"
      },
      "source": [
        "## 1. Set up API-Tokens"
      ]
    },
    {
      "cell_type": "code",
      "execution_count": 3,
      "metadata": {
        "colab": {
          "base_uri": "https://localhost:8080/"
        },
        "id": "i2qVGWSLb-H4",
        "outputId": "61c4dbf2-5740-4c31-de69-7f1d2477fa14"
      },
      "outputs": [
        {
          "name": "stdout",
          "output_type": "stream",
          "text": [
            "OpenAI: sk-proj-V3\n",
            "Anthropic: sk-ant-api\n"
          ]
        }
      ],
      "source": [
        "import os\n",
        "os.environ[\"OPENAI_API_KEY\"] = replace\n",
        "os.environ[\"ANTHROPIC_API_KEY\"] = replace\n",
        "\n",
        "# Verify\n",
        "print(\"OpenAI:\", os.environ[\"OPENAI_API_KEY\"][:10])\n",
        "print(\"Anthropic:\", os.environ[\"ANTHROPIC_API_KEY\"][:10])\n"
      ]
    },
    {
      "cell_type": "markdown",
      "metadata": {
        "id": "ccy0eNavhnFQ"
      },
      "source": [
        "**Note**: Before executing `annotate()`, upload the transcript file under the data folder of LLM-Annotator."
      ]
    },
    {
      "cell_type": "markdown",
      "metadata": {
        "id": "3P6iTPcrh5wa"
      },
      "source": [
        "## 2. Annotate"
      ]
    },
    {
      "cell_type": "code",
      "execution_count": 3,
      "metadata": {
        "id": "xiU_yayq4W4Y"
      },
      "outputs": [],
      "source": [
        "save_dir = \"/content/drive/MyDrive/Clustering Pilot/Arthur - EduNLP/Results/LLM Annotation\"\n",
        "feature = \"Mathcompetent\"\n",
        "obs_list = [\"146\"]\n",
        "model_list = [\"gpt-4o\"] # \"claude-3-7\" is also available\n",
        "transcript_source = \"1HvU-5soztoRqPGa5v5EaWXMw8PsgWjf8Yk1bct4GijQ\"\n",
        "sheet_source = \"1miMC8M_UkfY_3XhglTAdt9sC9H8D6d9slzC7_LgcLOc\"\n",
        "prompt_path = \"data/prompts/base.txt\"\n",
        "system_prompt_path = \"data/prompts/system_prompt.txt\"\n",
        "if_wait = True\n",
        "n_uttr = 40"
      ]
    },
    {
      "cell_type": "code",
      "execution_count": 5,
      "metadata": {
        "colab": {
          "base_uri": "https://localhost:8080/"
        },
        "id": "amQocSn8L0OH",
        "outputId": "65005dee-6474-4ef5-9cd0-14a9b32ee41a"
      },
      "outputs": [
        {
          "name": "stdout",
          "output_type": "stream",
          "text": [
            "Metadata saved to /content/drive/MyDrive/Clustering Pilot/Arthur - EduNLP/Results/LLM Annotation/result/Mathcompetent/2025-05-06_14:31:13/metadata.json\n",
            "Fetching results...\n",
            "gpt-4o: Batch batch_681a1d32f5c08190ac1cf897bada2f9a is still in progress.\n",
            "gpt-4o has completed batching.\n",
            "All annotation tasks are finished.\n",
            "/content/drive/MyDrive/Clustering Pilot/Arthur - EduNLP/Results/LLM Annotation/result/Mathcompetent/2025-05-06_14:31:13\n"
          ]
        }
      ],
      "source": [
        "from llm_annotator import annotate\n",
        "\n",
        "annotate(model_list=model_list,\n",
        "         obs_list=obs_list, # Set to \"all\" to annotate for all obs. If set, the LLMs will occasionally complain for overworking.(exceeding daily usage limits)\n",
        "         feature=feature, # Need to match the exact feature name in the list\n",
        "         transcript_source=transcript_source,\n",
        "         sheet_source=sheet_source,\n",
        "         prompt_path=prompt_path,\n",
        "         system_prompt_path=system_prompt_path,\n",
        "         if_wait=if_wait, # Loops and waits for the results to come back\n",
        "         n_uttr=n_uttr, # No. of utterances to pack in one prompt\n",
        "         save_dir=save_dir, # Directory to save the results into\n",
        "         )"
      ]
    },
    {
      "cell_type": "markdown",
      "metadata": {
        "id": "Kql4xK-BiE5_"
      },
      "source": [
        "The result is stored in LLM-Annotator/result/feature/time-stamp/atn_df.csv"
      ]
    },
    {
      "cell_type": "markdown",
      "metadata": {
        "id": "x2AsqDZth-mr"
      },
      "source": [
        "## 3. Optional: Fetch the results(only if_wait=False)"
      ]
    },
    {
      "cell_type": "markdown",
      "metadata": {
        "id": "WAu2Sv9UVhF6"
      },
      "source": [
        "To save to shared drive folder, create a shortcut to the shared folder and change the save_dir parameter."
      ]
    },
    {
      "cell_type": "code",
      "execution_count": 2,
      "metadata": {
        "colab": {
          "base_uri": "https://localhost:8080/"
        },
        "id": "G6iO5rPV4aNo",
        "outputId": "3291f558-c159-473e-fa64-0ec484dc3c25"
      },
      "outputs": [
        {
          "name": "stdout",
          "output_type": "stream",
          "text": [
            "Running in Google Colab.\n",
            "Drive already mounted at /content/drive; to attempt to forcibly remount, call drive.mount(\"/content/drive\", force_remount=True).\n",
            "Working directory set to: /content/LLM-Annotator\n"
          ]
        }
      ],
      "source": [
        "from llm_annotator import fetch\n",
        "feature = \"Mathcompetent\"\n",
        "save_dir = \"/content/drive/MyDrive/Clustering Pilot/Arthur - EduNLP/Results/LLM Annotation\"\n",
        "time_stamp=\"2025-05-06_13:38:36\""
      ]
    },
    {
      "cell_type": "code",
      "execution_count": 4,
      "metadata": {
        "colab": {
          "base_uri": "https://localhost:8080/"
        },
        "id": "LRqKqXnYWHYG",
        "outputId": "b9fcd86d-f4fa-402a-de31-eb3441a99837"
      },
      "outputs": [
        {
          "name": "stdout",
          "output_type": "stream",
          "text": [
            "Fetching results...\n",
            "Fetching results into /content/drive/MyDrive/Clustering Pilot/Arthur - EduNLP/Results/LLM Annotation/result/Mathcompetent\n",
            "gpt-4o has completed batching.\n",
            "/content/drive/MyDrive/Clustering Pilot/Arthur - EduNLP/Results/LLM Annotation/result/Mathcompetent/2025-05-06_13:38:36\n"
          ]
        }
      ],
      "source": [
        "fetch(feature=feature, timestamp=time_stamp, save_dir=save_dir)"
      ]
    },
    {
      "cell_type": "markdown",
      "metadata": {
        "id": "2IsPtdIpiOC-"
      },
      "source": [
        "The result is fetched into LLM-Annotator/result/feature/atn_df.csv\n"
      ]
    },
    {
      "cell_type": "markdown",
      "metadata": {
        "id": "AvG8kKerLyzQ"
      },
      "source": [
        "# 4. Store Results"
      ]
    },
    {
      "cell_type": "markdown",
      "metadata": {
        "id": "sjQjf5CzOKcI"
      },
      "source": [
        "Before executing the following commands, create a shortcut to the shared folder."
      ]
    },
    {
      "cell_type": "code",
      "execution_count": null,
      "metadata": {
        "id": "cUn_4PnOLyNy"
      },
      "outputs": [],
      "source": [
        "from google.colab import drive\n",
        "drive.mount('/content/drive')"
      ]
    },
    {
      "cell_type": "markdown",
      "metadata": {
        "id": "Aa8mh--Hc39e"
      },
      "source": [
        "Change the 2nd path to the central storage path"
      ]
    },
    {
      "cell_type": "code",
      "execution_count": null,
      "metadata": {
        "id": "KOChVkeCL_tn"
      },
      "outputs": [],
      "source": [
        "!cp -r /content/LLM-Annotator/result \"/content/drive/MyDrive/Clustering Pilot/Arthur - EduNLP/Results\""
      ]
    }
  ],
  "metadata": {
    "colab": {
      "provenance": []
    },
    "kernelspec": {
      "display_name": "Python 3",
      "language": "python",
      "name": "python3"
    },
    "language_info": {
      "name": "python",
      "version": "3.12.9 (main, Feb  4 2025, 14:38:38) [Clang 15.0.0 (clang-1500.1.0.2.5)]"
    },
    "vscode": {
      "interpreter": {
        "hash": "7500c3e1c7c786e4ba1e4b4eb7588219b4e35d5153674f92eb3a82672b534f6e"
      }
    }
  },
  "nbformat": 4,
  "nbformat_minor": 0
}
