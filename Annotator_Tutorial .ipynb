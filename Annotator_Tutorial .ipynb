{
  "cells": [
    {
      "cell_type": "markdown",
      "metadata": {
        "id": "JiOktV_chz_E"
      },
      "source": [
        "## 0. Install LLM-Annotator"
      ]
    },
    {
      "cell_type": "code",
      "execution_count": null,
      "metadata": {
        "id": "_1lvSXo0J73I"
      },
      "outputs": [],
      "source": [
        "import os\n",
        "os.chdir(\"/content/\")\n",
        "!git clone https://github.com/KingArthur0205/LLM-Annotator.git\n",
        "os.chdir(\"/content/LLM-Annotator\")\n",
        "!pip install -e .\n",
        "os.kill(os.getpid(), 9)"
      ]
    },
    {
      "cell_type": "markdown",
      "metadata": {
        "id": "ulW1VW5Kh2yU"
      },
      "source": [
        "## 1. Set up API-Tokens"
      ]
    },
    {
      "cell_type": "code",
      "execution_count": null,
      "metadata": {
        "id": "i2qVGWSLb-H4"
      },
      "outputs": [],
      "source": [
        "import os\n",
        "os.environ[\"OPENAI_API_KEY\"] = replace with own\n",
        "os.environ[\"ANTHROPIC_API_KEY\"] = replace with own\n",
        "\n",
        "# Verify\n",
        "print(\"OpenAI:\", os.environ[\"OPENAI_API_KEY\"][:10])\n",
        "print(\"Anthropic:\", os.environ[\"ANTHROPIC_API_KEY\"][:10])\n"
      ]
    },
    {
      "cell_type": "markdown",
      "metadata": {
        "id": "ccy0eNavhnFQ"
      },
      "source": [
        "**Note**: Before executing `annotate()`, upload the transcript file under the data folder of LLM-Annotator."
      ]
    },
    {
      "cell_type": "markdown",
      "metadata": {
        "id": "3P6iTPcrh5wa"
      },
      "source": [
        "## 2. Annotate"
      ]
    },
    {
      "cell_type": "code",
      "execution_count": null,
      "metadata": {
        "id": "amQocSn8L0OH"
      },
      "outputs": [],
      "source": [
        "from llm_annotator import annotate\n",
        "\n",
        "annotate(model_list=[\"gpt-4o\"],\n",
        "         obs_list=[\"146\"], # Set to \"all\" to annotate for all obs. If set, the LLMs will occasionally complain for working too hard.(exceeding daily usage limits)\n",
        "         feature=\"Mathcompetent\", # Need to match the exact feature name in the list\n",
        "         transcript_path=\"data/alltranscripts_423_clean_segmented.csv\",\n",
        "         sheet_source=\"1miMC8M_UkfY_3XhglTAdt9sC9H8D6d9slzC7_LgcLOc\",\n",
        "         prompt_path=\"data/prompts/base.txt\",\n",
        "         system_prompt_path=\"data/prompts/system_prompt.txt\",\n",
        "         if_wait=True, # Loops and waits for the results to come back\n",
        "         n_uttr=40, # No. of utterances to pack in one prompt\n",
        "         )"
      ]
    },
    {
      "cell_type": "markdown",
      "metadata": {
        "id": "Kql4xK-BiE5_"
      },
      "source": [
        "The result is stored in LLM-Annotator/result/feature/time-stamp/atn_df.csv"
      ]
    },
    {
      "cell_type": "markdown",
      "metadata": {
        "id": "x2AsqDZth-mr"
      },
      "source": [
        "## 3. Optional: Fetch the results(only if_wait=False)"
      ]
    },
    {
      "cell_type": "markdown",
      "metadata": {
        "id": "WAu2Sv9UVhF6"
      },
      "source": [
        "To save to shared drive folder, create a shortcut to the shared folder and change the save_dir parameter."
      ]
    },
    {
      "cell_type": "code",
      "execution_count": null,
      "metadata": {
        "id": "LRqKqXnYWHYG"
      },
      "outputs": [],
      "source": [
        "from llm_annotator import fetch\n",
        "save_dir_pre = \"/content/drive/MyDrive/\"\n",
        "\n",
        "fetch(feature=\"Mathcompetent\", save_dir=save_dir_pre+\"Clustering Pilot/Arthur - EduNLP/Results\")"
      ]
    },
    {
      "cell_type": "markdown",
      "metadata": {
        "id": "2IsPtdIpiOC-"
      },
      "source": [
        "The result is fetched into LLM-Annotator/result/feature/atn_df.csv\n"
      ]
    },
    {
      "cell_type": "markdown",
      "metadata": {
        "id": "AvG8kKerLyzQ"
      },
      "source": [
        "# 4. Store Results"
      ]
    },
    {
      "cell_type": "markdown",
      "metadata": {
        "id": "sjQjf5CzOKcI"
      },
      "source": [
        "Before executing the following commands, create a shortcut to the shared folder."
      ]
    },
    {
      "cell_type": "code",
      "execution_count": null,
      "metadata": {
        "id": "cUn_4PnOLyNy"
      },
      "outputs": [],
      "source": [
        "from google.colab import drive\n",
        "drive.mount('/content/drive')"
      ]
    },
    {
      "cell_type": "markdown",
      "metadata": {
        "id": "Aa8mh--Hc39e"
      },
      "source": [
        "Change the 2nd path to the central storage path"
      ]
    },
    {
      "cell_type": "code",
      "execution_count": 12,
      "metadata": {
        "id": "KOChVkeCL_tn"
      },
      "outputs": [],
      "source": [
        "!cp -r /content/LLM-Annotator/result \"/content/drive/MyDrive/Clustering Pilot/Arthur - EduNLP/Results\""
      ]
    }
  ],
  "metadata": {
    "colab": {
      "provenance": []
    },
    "kernelspec": {
      "display_name": "Python 3",
      "language": "python",
      "name": "python3"
    },
    "language_info": {
      "name": "python",
      "version": "3.12.9 (main, Feb  4 2025, 14:38:38) [Clang 15.0.0 (clang-1500.1.0.2.5)]"
    },
    "vscode": {
      "interpreter": {
        "hash": "7500c3e1c7c786e4ba1e4b4eb7588219b4e35d5153674f92eb3a82672b534f6e"
      }
    }
  },
  "nbformat": 4,
  "nbformat_minor": 0
}
