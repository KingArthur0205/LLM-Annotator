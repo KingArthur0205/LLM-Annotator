{
  "cells": [
    {
      "cell_type": "markdown",
      "metadata": {
        "id": "JiOktV_chz_E"
      },
      "source": [
        "## 0. Install LLM-Annotator"
      ]
    },
    {
      "cell_type": "code",
      "execution_count": null,
      "metadata": {
        "id": "_1lvSXo0J73I"
      },
      "outputs": [
        {
          "ename": "",
          "evalue": "",
          "output_type": "error",
          "traceback": [
            "\u001b[1;31m无法启动 Kernel。 \n",
            "\u001b[1;31merror: externally-managed-environment\n",
            "\u001b[1;31m\n",
            "\u001b[1;31m× This environment is externally managed\n",
            "\u001b[1;31m╰─> To install Python packages system-wide, try brew install\n",
            "\u001b[1;31m    xyz, where xyz is the package you are trying to\n",
            "\u001b[1;31m    install.\n",
            "\u001b[1;31m    \n",
            "\u001b[1;31m    If you wish to install a Python library that isn't in Homebrew,\n",
            "\u001b[1;31m    use a virtual environment:\n",
            "\u001b[1;31m    \n",
            "\u001b[1;31m    python3 -m venv path/to/venv\n",
            "\u001b[1;31m    source path/to/venv/bin/activate\n",
            "\u001b[1;31m    python3 -m pip install xyz\n",
            "\u001b[1;31m    \n",
            "\u001b[1;31m    If you wish to install a Python application that isn't in Homebrew,\n",
            "\u001b[1;31m    it may be easiest to use 'pipx install xyz', which will manage a\n",
            "\u001b[1;31m    virtual environment for you. You can install pipx with\n",
            "\u001b[1;31m    \n",
            "\u001b[1;31m    brew install pipx\n",
            "\u001b[1;31m    \n",
            "\u001b[1;31m    You may restore the old behavior of pip by passing\n",
            "\u001b[1;31m    the '--break-system-packages' flag to pip, or by adding\n",
            "\u001b[1;31m    'break-system-packages = true' to your pip.conf file. The latter\n",
            "\u001b[1;31m    will permanently disable this error.\n",
            "\u001b[1;31m    \n",
            "\u001b[1;31m    If you disable this error, we STRONGLY recommend that you additionally\n",
            "\u001b[1;31m    pass the '--user' flag to pip, or set 'user = true' in your pip.conf\n",
            "\u001b[1;31m    file. Failure to do this can result in a broken Homebrew installation.\n",
            "\u001b[1;31m    \n",
            "\u001b[1;31m    Read more about this behavior here: <https://peps.python.org/pep-0668/>\n",
            "\u001b[1;31m\n",
            "\u001b[1;31mnote: If you believe this is a mistake, please contact your Python installation or OS distribution provider. You can override this, at the risk of breaking your Python installation or OS, by passing --break-system-packages.\n",
            "\u001b[1;31mhint: See PEP 668 for the detailed specification. \n",
            "\u001b[1;31m有关更多详细信息，请查看 Jupyter <a href='command:jupyter.viewOutput'>log</a>。"
          ]
        }
      ],
      "source": [
        "import os\n",
        "os.chdir(\"/content/\")\n",
        "!git clone https://github.com/KingArthur0205/LLM-Annotator.git\n",
        "os.chdir(\"/content/LLM-Annotator\")\n",
        "!pip install -e .\n",
        "os.kill(os.getpid(), 9)"
      ]
    },
    {
      "cell_type": "markdown",
      "metadata": {
        "id": "ulW1VW5Kh2yU"
      },
      "source": [
        "## 1. Set up API-Tokens"
      ]
    },
    {
      "cell_type": "code",
      "execution_count": 1,
      "metadata": {
        "colab": {
          "base_uri": "https://localhost:8080/"
        },
        "id": "i2qVGWSLb-H4",
        "outputId": "e70b46a9-ce5e-40e3-fc8b-6afcdcd2f310"
      },
      "outputs": [
        {
          "name": "stdout",
          "output_type": "stream",
          "text": [
            "OpenAI: sk-proj-V3\n",
            "Anthropic: sk-ant-api\n"
          ]
        }
      ],
      "source": [
        "import os\n",
        "os.environ[\"OPENAI_API_KEY\"] = replace with real key\n",
        "os.environ[\"ANTHROPIC_API_KEY\"] = replace with real key\n",
        "\n",
        "# Verify\n",
        "print(\"OpenAI:\", os.environ[\"OPENAI_API_KEY\"][:10])\n",
        "print(\"Anthropic:\", os.environ[\"ANTHROPIC_API_KEY\"][:10])\n"
      ]
    },
    {
      "cell_type": "markdown",
      "metadata": {
        "id": "ccy0eNavhnFQ"
      },
      "source": [
        "**Note**: Before executing `annotate()`, upload the transcript file under the data folder of LLM-Annotator."
      ]
    },
    {
      "cell_type": "markdown",
      "metadata": {
        "id": "3P6iTPcrh5wa"
      },
      "source": [
        "## 2. Annotate"
      ]
    },
    {
      "cell_type": "code",
      "execution_count": null,
      "metadata": {
        "id": "amQocSn8L0OH"
      },
      "outputs": [],
      "source": [
        "from llm_annotator import annotate\n",
        "\n",
        "annotate(model_list=[\"gpt-4o\"],\n",
        "         obs_list=[\"146\"], # Set to \"all\" to annotate for all obs. If set, the LLMs will occasionally complain for working too hard.(exceeding daily usage limits)\n",
        "         feature=\"Mathcompetent\", # Need to match the exact feature name in the list\n",
        "         transcript_path=\"./data/alltranscripts_423_clean_segmented.csv\",\n",
        "         sheet_source=\"1miMC8M_UkfY_3XhglTAdt9sC9H8D6d9slzC7_LgcLOc\",\n",
        "         prompt_path=\"data/prompts/base.txt\",\n",
        "         system_prompt_path=\"data/prompts/system_prompt.txt\",\n",
        "         if_wait=True, # Loops and waits for the results to come back\n",
        "         n_uttr=40, # No. of utterances to pack in one prompt\n",
        "         )"
      ]
    },
    {
      "cell_type": "markdown",
      "metadata": {
        "id": "Kql4xK-BiE5_"
      },
      "source": [
        "The result is stored in LLM-Annotator/result/feature/time-stamp/atn_df.csv"
      ]
    },
    {
      "cell_type": "markdown",
      "metadata": {
        "id": "x2AsqDZth-mr"
      },
      "source": [
        "## 3. Optional: Fetch the results(only if_wait=False)"
      ]
    },
    {
      "cell_type": "code",
      "execution_count": null,
      "metadata": {
        "id": "LRqKqXnYWHYG"
      },
      "outputs": [],
      "source": [
        "from llm_annotator import fetch\n",
        "\n",
        "fetch(feature=\"Mathcompetent\")"
      ]
    },
    {
      "cell_type": "markdown",
      "metadata": {
        "id": "2IsPtdIpiOC-"
      },
      "source": [
        "The result is fetched into LLM-Annotator/result/feature/atn_df.csv\n"
      ]
    }
  ],
  "metadata": {
    "colab": {
      "provenance": []
    },
    "kernelspec": {
      "display_name": "Python 3",
      "language": "python",
      "name": "python3"
    },
    "language_info": {
      "name": "python",
      "version": "3.12.9 (main, Feb  4 2025, 14:38:38) [Clang 15.0.0 (clang-1500.1.0.2.5)]"
    },
    "vscode": {
      "interpreter": {
        "hash": "7500c3e1c7c786e4ba1e4b4eb7588219b4e35d5153674f92eb3a82672b534f6e"
      }
    }
  },
  "nbformat": 4,
  "nbformat_minor": 0
}
