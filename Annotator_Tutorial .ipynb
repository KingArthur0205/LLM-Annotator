{
  "nbformat": 4,
  "nbformat_minor": 0,
  "metadata": {
    "colab": {
      "provenance": []
    },
    "kernelspec": {
      "name": "python3",
      "display_name": "Python 3"
    },
    "language_info": {
      "name": "python"
    }
  },
  "cells": [
    {
      "cell_type": "markdown",
      "source": [
        "## 0. Install LLM-Annotator"
      ],
      "metadata": {
        "id": "JiOktV_chz_E"
      }
    },
    {
      "cell_type": "code",
      "execution_count": null,
      "metadata": {
        "id": "_1lvSXo0J73I"
      },
      "outputs": [],
      "source": [
        "import os\n",
        "os.chdir(\"/content/\")\n",
        "!git clone https://github.com/KingArthur0205/LLM-Annotator.git\n",
        "os.chdir(\"/content/LLM-Annotator\")\n",
        "!pip install -e .\n",
        "os.kill(os.getpid(), 9)"
      ]
    },
    {
      "cell_type": "markdown",
      "source": [
        "## 1. Set up API-Tokens"
      ],
      "metadata": {
        "id": "ulW1VW5Kh2yU"
      }
    },
    {
      "cell_type": "code",
      "source": [
        "import os\n",
        "os.environ[\"OPENAI_API_KEY\"] = replace with real key\n",
        "os.environ[\"ANTHROPIC_API_KEY\"] = replace with real key\n",
        "\n",
        "# Verify\n",
        "print(\"OpenAI:\", os.environ[\"OPENAI_API_KEY\"][:10])\n",
        "print(\"Anthropic:\", os.environ[\"ANTHROPIC_API_KEY\"][:10])\n"
      ],
      "metadata": {
        "colab": {
          "base_uri": "https://localhost:8080/"
        },
        "id": "i2qVGWSLb-H4",
        "outputId": "e70b46a9-ce5e-40e3-fc8b-6afcdcd2f310"
      },
      "execution_count": 1,
      "outputs": [
        {
          "output_type": "stream",
          "name": "stdout",
          "text": [
            "OpenAI: sk-proj-V3\n",
            "Anthropic: sk-ant-api\n"
          ]
        }
      ]
    },
    {
      "cell_type": "markdown",
      "source": [
        "**Note**: Before executing `annotate()`, upload the transcript file under the data folder of LLM-Annotator."
      ],
      "metadata": {
        "id": "ccy0eNavhnFQ"
      }
    },
    {
      "cell_type": "markdown",
      "source": [
        "## 2. Annotate"
      ],
      "metadata": {
        "id": "3P6iTPcrh5wa"
      }
    },
    {
      "cell_type": "code",
      "source": [
        "from llm_annotator import annotate\n",
        "\n",
        "annotate(model_list=[\"gpt-4o\"],\n",
        "         obs_list=[\"146\"], # Set to \"all\" to annotate for all obs. If set, the LLMs will occasionally complain for working too hard.(exceeding daily usage limits)\n",
        "         feature=\"Mathcompetent\", # Need to match the exact feature name in the list\n",
        "         transcript_path=\"./data/alltranscripts_423_clean_segmented.csv\",\n",
        "         sheet_source=\"1miMC8M_UkfY_3XhglTAdt9sC9H8D6d9slzC7_LgcLOc\",\n",
        "         prompt_path=\"data/prompts/base.txt\",\n",
        "         system_prompt_path=\"data/prompts/system_prompt.txt\",\n",
        "         if_wait=True, # Loops and waits for the results to come back\n",
        "         n_uttr=40, # No. of utterances to pack in one prompt\n",
        "         )"
      ],
      "metadata": {
        "id": "amQocSn8L0OH"
      },
      "execution_count": null,
      "outputs": []
    },
    {
      "cell_type": "markdown",
      "source": [
        "The result is stored in LLM-Annotator/result/feature/time-stamp/atn_df.csv"
      ],
      "metadata": {
        "id": "Kql4xK-BiE5_"
      }
    },
    {
      "cell_type": "markdown",
      "source": [
        "## 3. Optional: Fetch the results(only if_wait=False)"
      ],
      "metadata": {
        "id": "x2AsqDZth-mr"
      }
    },
    {
      "cell_type": "code",
      "source": [
        "from llm_annotator import fetch\n",
        "\n",
        "fetch(feature=\"Mathcompetent\")"
      ],
      "metadata": {
        "id": "LRqKqXnYWHYG"
      },
      "execution_count": null,
      "outputs": []
    },
    {
      "cell_type": "markdown",
      "source": [
        "The result is fetched into LLM-Annotator/result/feature/atn_df.csv\n"
      ],
      "metadata": {
        "id": "2IsPtdIpiOC-"
      }
    }
  ]
}